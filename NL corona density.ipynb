{
 "cells": [
  {
   "cell_type": "code",
   "execution_count": null,
   "metadata": {},
   "outputs": [],
   "source": [
    "# !curl -fLo NL-shapes.zip https://www.eea.europa.eu/data-and-maps/data/eea-reference-grids-2/gis-files/netherlands-shapefile/at_download/file\n",
    "!curl -fLo NL-municipalities.zip https://opendata.arcgis.com/datasets/e1f0dd70abcb4fceabbc43412e43ad4b_0.zip"
   ]
  },
  {
   "cell_type": "code",
   "execution_count": null,
   "metadata": {},
   "outputs": [],
   "source": [
    "import zipfile\n",
    "\n",
    "# with zipfile.ZipFile('NL-shapes.zip') as shapes_zip_file:\n",
    "#     shapes_zip_file.extractall(path='nl_shapes')\n",
    "with zipfile.ZipFile('NL-municipalities.zip') as shapes_zip_file:\n",
    "    shapes_zip_file.extractall(path='nl_municipalities')"
   ]
  },
  {
   "cell_type": "code",
   "execution_count": null,
   "metadata": {},
   "outputs": [],
   "source": [
    "import matplotlib.pyplot as plt\n",
    "import geopandas as gp"
   ]
  },
  {
   "cell_type": "code",
   "execution_count": null,
   "metadata": {},
   "outputs": [],
   "source": [
    "shapes = gp.read_file('nl_shapes/nl_1km.shp')"
   ]
  },
  {
   "cell_type": "code",
   "execution_count": null,
   "metadata": {},
   "outputs": [],
   "source": [
    "shapes.head()"
   ]
  },
  {
   "cell_type": "code",
   "execution_count": null,
   "metadata": {},
   "outputs": [],
   "source": [
    "shapes.plot()"
   ]
  },
  {
   "cell_type": "code",
   "execution_count": null,
   "metadata": {},
   "outputs": [],
   "source": [
    "gemeentes = gp.read_file('nl_municipalities/Gemeentegrenzen_2019.shp')\n",
    "gemeentes = gemeentes.to_crs(\"EPSG:3395\")"
   ]
  },
  {
   "cell_type": "code",
   "execution_count": null,
   "metadata": {},
   "outputs": [],
   "source": [
    "gemeentes.head()"
   ]
  },
  {
   "cell_type": "code",
   "execution_count": null,
   "metadata": {},
   "outputs": [],
   "source": [
    "gemeentes.Code = gemeentes.Code.astype('int')"
   ]
  },
  {
   "cell_type": "code",
   "execution_count": null,
   "metadata": {},
   "outputs": [],
   "source": [
    "gemeentes.plot(figsize=(10, 12))"
   ]
  },
  {
   "cell_type": "markdown",
   "metadata": {},
   "source": [
    "# Download municpality residents data\n",
    "\n",
    "Go to https://opendata.cbs.nl/statline/portal.html?_la=nl&_catalog=CBS&tableId=37230ned&_theme=251 and select the data you need; I picked only \"Bevolking aan het einde van de periode\" (residents at end of period)."
   ]
  },
  {
   "cell_type": "code",
   "execution_count": null,
   "metadata": {},
   "outputs": [],
   "source": [
    "import pandas as pd\n",
    "import datetime"
   ]
  },
  {
   "cell_type": "code",
   "execution_count": null,
   "metadata": {},
   "outputs": [],
   "source": [
    "residents = pd.read_csv('37230ned_UntypedDataSet_17032020_111452.csv', sep=';', index_col=0)"
   ]
  },
  {
   "cell_type": "markdown",
   "metadata": {},
   "source": [
    "In this experiment we only care about the latest numbers, so let's filter and remove the Perioden (periods) column after that:"
   ]
  },
  {
   "cell_type": "code",
   "execution_count": null,
   "metadata": {},
   "outputs": [],
   "source": [
    "residents_latest = residents[residents.Perioden == '2020MM01']\\\n",
    "                            .drop(columns='Perioden')"
   ]
  },
  {
   "cell_type": "code",
   "execution_count": null,
   "metadata": {},
   "outputs": [],
   "source": [
    "residents_latest"
   ]
  },
  {
   "cell_type": "markdown",
   "metadata": {},
   "source": [
    "Also, we only care about municipalities, so let's get rid of any non-municipal data and clean the region number column so we can easily match with the shapes data."
   ]
  },
  {
   "cell_type": "code",
   "execution_count": null,
   "metadata": {},
   "outputs": [],
   "source": [
    "gemeente_residents = residents_latest[residents_latest.RegioS.str.contains('GM')]"
   ]
  },
  {
   "cell_type": "code",
   "execution_count": null,
   "metadata": {},
   "outputs": [],
   "source": [
    "gemeente_residents['Code'] = gemeente_residents.RegioS.str.strip('GM')\n",
    "gemeente_residents = gemeente_residents.drop(columns='RegioS')"
   ]
  },
  {
   "cell_type": "code",
   "execution_count": null,
   "metadata": {},
   "outputs": [],
   "source": [
    "gemeente_residents.head()"
   ]
  },
  {
   "cell_type": "markdown",
   "metadata": {},
   "source": [
    "No idea why this still has NaNs... but ok, let's filter those as well (they also appear in other years, so maybe those municipalities haven't been counted recently)."
   ]
  },
  {
   "cell_type": "code",
   "execution_count": null,
   "metadata": {},
   "outputs": [],
   "source": [
    "gemeente_residents.dropna(inplace=True)"
   ]
  },
  {
   "cell_type": "code",
   "execution_count": null,
   "metadata": {},
   "outputs": [],
   "source": [
    "gemeente_residents.BevolkingAanHetEindeVanDePeriode_15 = gemeente_residents.BevolkingAanHetEindeVanDePeriode_15.astype('int')"
   ]
  },
  {
   "cell_type": "code",
   "execution_count": null,
   "metadata": {},
   "outputs": [],
   "source": [
    "gemeente_residents.Code = gemeente_residents.Code.astype('int')"
   ]
  },
  {
   "cell_type": "code",
   "execution_count": null,
   "metadata": {},
   "outputs": [],
   "source": [
    "len(gemeente_residents), len(gemeentes)"
   ]
  },
  {
   "cell_type": "markdown",
   "metadata": {},
   "source": [
    "Ok, nice, equal count, let's see if we can match:"
   ]
  },
  {
   "cell_type": "code",
   "execution_count": null,
   "metadata": {},
   "outputs": [],
   "source": [
    "gemeentes[gemeentes.Code == 1719]"
   ]
  },
  {
   "cell_type": "code",
   "execution_count": null,
   "metadata": {},
   "outputs": [],
   "source": [
    "gemeente_residents[gemeente_residents.Code == 1719]"
   ]
  },
  {
   "cell_type": "code",
   "execution_count": null,
   "metadata": {},
   "outputs": [],
   "source": [
    "gemeentes_data = gemeentes.merge(gemeente_residents)"
   ]
  },
  {
   "cell_type": "code",
   "execution_count": null,
   "metadata": {},
   "outputs": [],
   "source": [
    "gemeentes_data.plot(column='BevolkingAanHetEindeVanDePeriode_15', figsize=(10, 12))"
   ]
  },
  {
   "cell_type": "markdown",
   "metadata": {},
   "source": [
    "Great, that seems about right! Would normally plot logarithmically, but that's not the issue at hand right now.\n",
    "\n",
    "# Corona data\n",
    "\n",
    "The RIVM publishes data on Corona infections per municipality daily. I can't seem to get a URL to the dataset, so just download it via the context menu (download CSV)."
   ]
  },
  {
   "cell_type": "code",
   "execution_count": null,
   "metadata": {},
   "outputs": [],
   "source": [
    "corona_reports = pd.read_csv('Aantal Coronavirus (COVID-19)-meldingen.csv', sep=';', header=0,\n",
    "                             names=['Gemeentena', 'corona_number'],\n",
    "                             dtype={'Gemeentena': 'str', 'corona_number': 'int'})"
   ]
  },
  {
   "cell_type": "code",
   "execution_count": null,
   "metadata": {},
   "outputs": [],
   "source": [
    "corona_reports"
   ]
  },
  {
   "cell_type": "markdown",
   "metadata": {},
   "source": [
    "Ugh, ok, so let's see if we can also merge on name, leaving unmentioned municipalities at NaN (assuming that's the RIVM's data format)."
   ]
  },
  {
   "cell_type": "code",
   "execution_count": null,
   "metadata": {},
   "outputs": [],
   "source": [
    "gemeentes_data2 = gemeentes_data.merge(corona_reports, how='left', on='Gemeentena')"
   ]
  },
  {
   "cell_type": "code",
   "execution_count": null,
   "metadata": {},
   "outputs": [],
   "source": [
    "(gemeentes_data2.corona_number == 0).sum()"
   ]
  },
  {
   "cell_type": "code",
   "execution_count": null,
   "metadata": {},
   "outputs": [],
   "source": [
    "gemeentes_data2.corona_number[gemeentes_data2.corona_number.isna()] = 0"
   ]
  },
  {
   "cell_type": "code",
   "execution_count": null,
   "metadata": {},
   "outputs": [],
   "source": [
    "(gemeentes_data2.corona_number == 0).sum()"
   ]
  },
  {
   "cell_type": "markdown",
   "metadata": {},
   "source": [
    "Wow, no hickups at all, unreal. Ok, forward to our final goal!\n",
    "\n",
    "# Corona density map\n",
    "\n",
    "We plot the number of confirmed COVID-19 infections per capita per municipality."
   ]
  },
  {
   "cell_type": "code",
   "execution_count": null,
   "metadata": {},
   "outputs": [],
   "source": [
    "gemeentes_data2['promille'] = gemeentes_data2['corona_number'] / gemeentes_data2['BevolkingAanHetEindeVanDePeriode_15'] * 1000"
   ]
  },
  {
   "cell_type": "code",
   "execution_count": null,
   "metadata": {},
   "outputs": [],
   "source": [
    "gemeentes_data2"
   ]
  },
  {
   "cell_type": "code",
   "execution_count": null,
   "metadata": {},
   "outputs": [],
   "source": [
    "gemeentes_data2.plot(column='promille', figsize=(10, 12))"
   ]
  },
  {
   "cell_type": "code",
   "execution_count": null,
   "metadata": {},
   "outputs": [],
   "source": [
    "fig, ax = plt.subplots(1, 1, figsize=(10, 12))\n",
    "gemeentes_data2.plot(column='promille', scheme='quantiles',\n",
    "                     ax=ax, legend=True,\n",
    "                     legend_kwds={'title': \"Reported Corona cases\\nper 1000 inhabitants\", 'loc':'upper left'})"
   ]
  },
  {
   "cell_type": "code",
   "execution_count": null,
   "metadata": {},
   "outputs": [],
   "source": []
  }
 ],
 "metadata": {
  "language_info": {
   "name": "python",
   "pygments_lexer": "ipython3"
  }
 },
 "nbformat": 4,
 "nbformat_minor": 4
}
